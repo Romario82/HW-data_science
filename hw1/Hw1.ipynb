{
  "nbformat": 4,
  "nbformat_minor": 0,
  "metadata": {
    "colab": {
      "provenance": []
    },
    "kernelspec": {
      "name": "python3",
      "display_name": "Python 3"
    },
    "language_info": {
      "name": "python"
    }
  },
  "cells": [
    {
      "cell_type": "code",
      "execution_count": 2,
      "metadata": {
        "id": "EWkOj4y-w8Id"
      },
      "outputs": [],
      "source": [
        "import numpy as np"
      ]
    },
    {
      "cell_type": "code",
      "source": [
        "#-1 Створіть одновимірний масив (вектор) з першими 10-ма натуральними числами та виведіть його значення\n",
        "v = np.arange(1, 11)\n",
        "print(v)"
      ],
      "metadata": {
        "id": "yRFNgolJw__1",
        "colab": {
          "base_uri": "https://localhost:8080/"
        },
        "outputId": "9234a016-022e-4db2-8a46-64ab6480a514"
      },
      "execution_count": 3,
      "outputs": [
        {
          "output_type": "stream",
          "name": "stdout",
          "text": [
            "[ 1  2  3  4  5  6  7  8  9 10]\n"
          ]
        }
      ]
    },
    {
      "cell_type": "code",
      "source": [
        "#-2 Створіть двовимірний масив (матрицю) розміром 3x3, заповніть його нулями та виведіть його значення.\n",
        "matr = np.zeros((3, 3))\n",
        "print(matr)"
      ],
      "metadata": {
        "id": "_r_GwAQsxLWG",
        "colab": {
          "base_uri": "https://localhost:8080/"
        },
        "outputId": "b6d55164-cc1d-4e5b-a7b7-2ae01046f5a2"
      },
      "execution_count": 4,
      "outputs": [
        {
          "output_type": "stream",
          "name": "stdout",
          "text": [
            "[[0. 0. 0.]\n",
            " [0. 0. 0.]\n",
            " [0. 0. 0.]]\n"
          ]
        }
      ]
    },
    {
      "cell_type": "code",
      "source": [
        "#-3 Створіть масив розміром 5x5, заповніть його випадковими цілими числами в діапазоні від 1 до 10 та виведіть його значення.\n",
        "matr = np.random.randint(1, 11, size=(5, 5))\n",
        "print(matr)"
      ],
      "metadata": {
        "id": "nBOFM5TUxaeu",
        "colab": {
          "base_uri": "https://localhost:8080/"
        },
        "outputId": "213c7133-793c-44bb-9127-51bea13a3d12"
      },
      "execution_count": 5,
      "outputs": [
        {
          "output_type": "stream",
          "name": "stdout",
          "text": [
            "[[ 7  9  8  9  2]\n",
            " [ 7 10  4  9  6]\n",
            " [ 9  3  2  5  9]\n",
            " [ 1  1  6  3  9]\n",
            " [ 3 10  9  5  4]]\n"
          ]
        }
      ]
    },
    {
      "cell_type": "code",
      "source": [
        "#-4 Створіть масив розміром 4x4, заповніть його випадковими дійсними числами в діапазоні від 0 до 1 та виведіть його значення.\n",
        "matr = np.random.rand(4, 4)\n",
        "print(matr)"
      ],
      "metadata": {
        "id": "Xihf8LtDxxdw",
        "colab": {
          "base_uri": "https://localhost:8080/"
        },
        "outputId": "e88e9f5e-e412-40a2-8090-3a996deebd41"
      },
      "execution_count": 6,
      "outputs": [
        {
          "output_type": "stream",
          "name": "stdout",
          "text": [
            "[[0.2166024  0.78830404 0.82877311 0.95216758]\n",
            " [0.65105674 0.9999225  0.01303572 0.964594  ]\n",
            " [0.58213717 0.46911895 0.91356816 0.63430164]\n",
            " [0.99427078 0.14399004 0.64860432 0.38063423]]\n"
          ]
        }
      ]
    },
    {
      "cell_type": "code",
      "source": [
        "#-5 Створіть два одновимірних масиви розміром 5, заповніть їх випадковими цілими числами в діапазоні від 1 до 10 та виконайте на них поелементні операції додавання, віднімання та множення.\n",
        "array1 = np.random.randint(1, 11, 5)\n",
        "array2 = np.random.randint(1, 11, 5)\n",
        "print(\"array1 ->\",array1)\n",
        "print(\"array2 ->\", array2)\n",
        "print(\"\\n\")\n",
        "add = array1 + array2\n",
        "subtract = array1 - array2\n",
        "multiplication = array1 * array2\n",
        "print(\"+\", add)\n",
        "print(\"-\", subtract)\n",
        "print(\"*\", multiplication)"
      ],
      "metadata": {
        "id": "_Q79SEaex9GE",
        "colab": {
          "base_uri": "https://localhost:8080/"
        },
        "outputId": "ea979529-571f-4087-f2ee-6c486acb4c23"
      },
      "execution_count": 7,
      "outputs": [
        {
          "output_type": "stream",
          "name": "stdout",
          "text": [
            "array1 -> [ 2 10  4  2  3]\n",
            "array2 -> [ 8 10  5  6  2]\n",
            "\n",
            "\n",
            "+ [10 20  9  8  5]\n",
            "- [-6  0 -1 -4  1]\n",
            "* [ 16 100  20  12   6]\n"
          ]
        }
      ]
    },
    {
      "cell_type": "code",
      "source": [
        "#-6 Створіть два вектори розміром 7, заповніть довільними числами та знайдіть їх скалярний добуток.\n",
        "v1 = np.array([10, 5, 66, 1, 22, 4, 8])\n",
        "v2 = np.array([5, 9, 77, 36, 88, 1, 99])\n",
        "\n",
        "scalar_res = np.dot(v1, v2)\n",
        "print(scalar_res)"
      ],
      "metadata": {
        "id": "3ZlY0jeE0HaG",
        "colab": {
          "base_uri": "https://localhost:8080/"
        },
        "outputId": "64bb8316-fecc-440a-d629-24dc7ef2d14e"
      },
      "execution_count": 8,
      "outputs": [
        {
          "output_type": "stream",
          "name": "stdout",
          "text": [
            "7945\n"
          ]
        }
      ]
    },
    {
      "cell_type": "code",
      "source": [
        "#-7 Створіть дві матриці розміром 2x2 та 2x3, заповніть їх випадковими цілими числами в діапазоні від 1 до 10 та перемножте їх між собою.\n",
        "matr1 = np.random.randint(1, 11, (2, 2))\n",
        "matr2 = np.random.randint(1, 11, (2, 3))\n",
        "print(matr1, \"\\n\")\n",
        "print(matr2)\n",
        "print(\"\\n\")\n",
        "res = np.dot(matr1, matr2)\n",
        "print(res)"
      ],
      "metadata": {
        "id": "Xlvu6EgL16Xi",
        "colab": {
          "base_uri": "https://localhost:8080/"
        },
        "outputId": "e371d1c9-76a0-4390-8679-9644ca2bf3da"
      },
      "execution_count": 9,
      "outputs": [
        {
          "output_type": "stream",
          "name": "stdout",
          "text": [
            "[[3 2]\n",
            " [3 2]] \n",
            "\n",
            "[[3 4 3]\n",
            " [4 2 8]]\n",
            "\n",
            "\n",
            "[[17 16 25]\n",
            " [17 16 25]]\n"
          ]
        }
      ]
    },
    {
      "cell_type": "code",
      "source": [
        "#-8 Створіть матрицю розміром 3x3, заповніть її випадковими цілими числами в діапазоні від 1 до 10 та знайдіть її обернену матрицю.\n",
        "matr = np.random.randint(1, 11, (3, 3))\n",
        "print(matr)\n",
        "print(\"\\n\")\n",
        "inverse_matr = np.linalg.inv(matr)\n",
        "print(inverse_matr)"
      ],
      "metadata": {
        "id": "tzrPYGAp3C2q",
        "colab": {
          "base_uri": "https://localhost:8080/"
        },
        "outputId": "5113011d-6908-4775-8692-189028d525d9"
      },
      "execution_count": 10,
      "outputs": [
        {
          "output_type": "stream",
          "name": "stdout",
          "text": [
            "[[6 2 4]\n",
            " [4 7 7]\n",
            " [2 9 8]]\n",
            "\n",
            "\n",
            "[[-0.7  2.  -1.4]\n",
            " [-1.8  4.  -2.6]\n",
            " [ 2.2 -5.   3.4]]\n"
          ]
        }
      ]
    },
    {
      "cell_type": "code",
      "source": [
        "#-9 Створіть матрицю розміром 4x4, заповніть її випадковими дійсними числами в діапазоні від 0 до 1 та транспонуйте її.\n",
        "matr = np.random.rand(4, 4)\n",
        "print(matr)\n",
        "print(\"\\n\")\n",
        "transp_matr = np.transpose(matr)\n",
        "print(transp_matr)"
      ],
      "metadata": {
        "id": "ObpbvVUY6W20",
        "colab": {
          "base_uri": "https://localhost:8080/"
        },
        "outputId": "24d8fbc0-f3a7-4556-a61a-4dc43151c4c0"
      },
      "execution_count": 11,
      "outputs": [
        {
          "output_type": "stream",
          "name": "stdout",
          "text": [
            "[[0.75785959 0.14709418 0.7603626  0.90817001]\n",
            " [0.58081978 0.82390687 0.97429041 0.43771337]\n",
            " [0.67527678 0.88917663 0.55630818 0.86148009]\n",
            " [0.56710179 0.21609211 0.4171397  0.72563802]]\n",
            "\n",
            "\n",
            "[[0.75785959 0.58081978 0.67527678 0.56710179]\n",
            " [0.14709418 0.82390687 0.88917663 0.21609211]\n",
            " [0.7603626  0.97429041 0.55630818 0.4171397 ]\n",
            " [0.90817001 0.43771337 0.86148009 0.72563802]]\n"
          ]
        }
      ]
    },
    {
      "cell_type": "code",
      "source": [
        "#-10 Створіть матрицю розміром 3x4 та вектор розміром 4, заповніть їх випадковими цілими числами в діапазоні від 1 до 10 та перемножте матрицю на вектор.\n",
        "matr = np.random.randint(1, 11, (3, 4))\n",
        "v = np.random.randint(1, 11, 4)\n",
        "print(matr, \"\\n\")\n",
        "print(v)\n",
        "print(\"\\n\")\n",
        "\n",
        "res = np.dot(matr, v)\n",
        "print(res)"
      ],
      "metadata": {
        "id": "lb18KhJa7vsw",
        "colab": {
          "base_uri": "https://localhost:8080/"
        },
        "outputId": "b4131575-c5a0-43e7-d349-828965e3a2ed"
      },
      "execution_count": 12,
      "outputs": [
        {
          "output_type": "stream",
          "name": "stdout",
          "text": [
            "[[8 9 3 5]\n",
            " [3 4 2 4]\n",
            " [5 6 2 1]] \n",
            "\n",
            "[3 5 2 1]\n",
            "\n",
            "\n",
            "[80 37 50]\n"
          ]
        }
      ]
    },
    {
      "cell_type": "code",
      "source": [
        "#-11 Створіть матрицю розміром 2x3 та вектор розміром 3, заповніть їх випадковими дійсними числами в діапазоні від 0 до 1 та перемножте матрицю на вектор.\n",
        "matr = np.random.rand(2, 3)\n",
        "v = np.random.rand(3)\n",
        "print(matr, \"\\n\")\n",
        "print(v)\n",
        "print(\"\\n\")\n",
        "\n",
        "res = np.dot(matr, v)\n",
        "print(res)"
      ],
      "metadata": {
        "id": "YUvHiKs49b4y",
        "colab": {
          "base_uri": "https://localhost:8080/"
        },
        "outputId": "efc00412-5b9b-4b43-b737-2928e760ebc4"
      },
      "execution_count": 13,
      "outputs": [
        {
          "output_type": "stream",
          "name": "stdout",
          "text": [
            "[[0.05156728 0.86193913 0.98841619]\n",
            " [0.00165732 0.09929598 0.59323707]] \n",
            "\n",
            "[0.8059456  0.21088835 0.63212146]\n",
            "\n",
            "\n",
            "[0.84813243 0.39727396]\n"
          ]
        }
      ]
    },
    {
      "cell_type": "code",
      "source": [
        "#-12 Створіть дві матриці розміром 2x2, заповніть їх випадковими цілими числами в діапазоні від 1 до 10 та виконайте їхнє поелементне множення.\n",
        "matr1 = np.random.randint(1, 11, (2, 2))\n",
        "matr2 = np.random.randint(1, 11, (2, 2))\n",
        "print(matr1, \"\\n\")\n",
        "print(matr2)\n",
        "print(\"\\n\")\n",
        "\n",
        "res = np.multiply(matr1, matr2)\n",
        "print(res)"
      ],
      "metadata": {
        "id": "ggLoWrOb-Ixt",
        "colab": {
          "base_uri": "https://localhost:8080/"
        },
        "outputId": "9b65c1dc-f652-4fde-fc0d-510d966d3e9d"
      },
      "execution_count": 14,
      "outputs": [
        {
          "output_type": "stream",
          "name": "stdout",
          "text": [
            "[[6 9]\n",
            " [2 5]] \n",
            "\n",
            "[[1 9]\n",
            " [8 5]]\n",
            "\n",
            "\n",
            "[[ 6 81]\n",
            " [16 25]]\n"
          ]
        }
      ]
    },
    {
      "cell_type": "code",
      "source": [
        "#-13 Створіть дві матриці розміром 2x2, заповніть їх випадковими цілими числами в діапазоні від 1 до 10 та знайдіть їх добуток.\n",
        "matr1 = np.random.randint(1, 11, (2, 2))\n",
        "matr2 = np.random.randint(1, 11, (2, 2))\n",
        "print(matr1, \"\\n\")\n",
        "print(matr2)\n",
        "print(\"\\n\")\n",
        "\n",
        "res = np.dot(matr1, matr2)\n",
        "print(res)"
      ],
      "metadata": {
        "id": "Sxj6d-dV_aW6",
        "colab": {
          "base_uri": "https://localhost:8080/"
        },
        "outputId": "70c6153f-e6d6-4256-cb83-46ba45aa4d24"
      },
      "execution_count": 15,
      "outputs": [
        {
          "output_type": "stream",
          "name": "stdout",
          "text": [
            "[[ 2  6]\n",
            " [10 10]] \n",
            "\n",
            "[[5 4]\n",
            " [4 9]]\n",
            "\n",
            "\n",
            "[[ 34  62]\n",
            " [ 90 130]]\n"
          ]
        }
      ]
    },
    {
      "cell_type": "code",
      "source": [
        "#-14 Створіть матрицю розміром 5x5, заповніть її випадковими цілими числами в діапазоні від 1 до 100 та знайдіть суму елементів матриці.\n",
        "matr = np.random.randint(1, 101, (5, 5))\n",
        "print(matr1, \"\\n\")\n",
        "\n",
        "sum_el = np.sum(matr)\n",
        "print(sum_el)"
      ],
      "metadata": {
        "colab": {
          "base_uri": "https://localhost:8080/"
        },
        "id": "kVJHpXlkAMgM",
        "outputId": "9a94ef61-60d9-4218-b408-2b6405d3d18e"
      },
      "execution_count": 16,
      "outputs": [
        {
          "output_type": "stream",
          "name": "stdout",
          "text": [
            "[[ 2  6]\n",
            " [10 10]] \n",
            "\n",
            "1364\n"
          ]
        }
      ]
    },
    {
      "cell_type": "code",
      "source": [
        "#-15 Створіть дві матриці розміром 4x4, заповніть їх випадковими цілими числами в діапазоні від 1 до 10 та знайдіть їхню різницю.\n",
        "matr1 = np.random.randint(1, 11, (4, 4))\n",
        "matr2 = np.random.randint(1, 11, (4, 4))\n",
        "print(matr1, \"\\n\")\n",
        "print(matr2)\n",
        "print(\"\\n\")\n",
        "\n",
        "res  = matr1 - matr2\n",
        "print(res)\n"
      ],
      "metadata": {
        "id": "BM1YVK2uBBtk",
        "colab": {
          "base_uri": "https://localhost:8080/"
        },
        "outputId": "aadf74e5-9eb8-4897-996d-838273078879"
      },
      "execution_count": 17,
      "outputs": [
        {
          "output_type": "stream",
          "name": "stdout",
          "text": [
            "[[ 2  7  5  6]\n",
            " [ 7  4  2  6]\n",
            " [10  6  3  2]\n",
            " [ 3  1  8  5]] \n",
            "\n",
            "[[1 2 8 4]\n",
            " [7 2 5 1]\n",
            " [7 6 5 6]\n",
            " [2 4 8 4]]\n",
            "\n",
            "\n",
            "[[ 1  5 -3  2]\n",
            " [ 0  2 -3  5]\n",
            " [ 3  0 -2 -4]\n",
            " [ 1 -3  0  1]]\n"
          ]
        }
      ]
    },
    {
      "cell_type": "code",
      "source": [
        "#-16 Створіть матрицю розміром 3x3, заповніть її випадковими дійсними числами в діапазоні від 0 до 1 та знайдіть вектор-стовпчик, що містить суму елементів кожного рядка матриці.\n",
        "matr = np.random.rand(3, 3)\n",
        "print(matr1, \"\\n\")\n",
        "\n",
        "row_sum = np.sum(matr, axis=1)\n",
        "print(row_sum, \"\\n\")\n",
        "\n",
        "res = row_sum.reshape(-1, 1)\n",
        "print(res)\n"
      ],
      "metadata": {
        "id": "sYRA_8fCCvvm",
        "colab": {
          "base_uri": "https://localhost:8080/"
        },
        "outputId": "3098223b-f4ea-4ca0-ecf5-dca9745f08c7"
      },
      "execution_count": 18,
      "outputs": [
        {
          "output_type": "stream",
          "name": "stdout",
          "text": [
            "[[ 2  7  5  6]\n",
            " [ 7  4  2  6]\n",
            " [10  6  3  2]\n",
            " [ 3  1  8  5]] \n",
            "\n",
            "[1.59265443 0.79991607 1.73620604] \n",
            "\n",
            "[[1.59265443]\n",
            " [0.79991607]\n",
            " [1.73620604]]\n"
          ]
        }
      ]
    },
    {
      "cell_type": "code",
      "source": [
        "#-17 Створіть матрицю розміром 3x4 з довільними цілими числами і створінь матрицю з квадратами цих чисел.\n",
        "matr = np.random.randint(1, 11, (3, 4))\n",
        "print(matr, \"\\n\")\n",
        "\n",
        "res = np.square(matr)\n",
        "print(res)"
      ],
      "metadata": {
        "id": "TMAoKzLWEgY7",
        "colab": {
          "base_uri": "https://localhost:8080/"
        },
        "outputId": "cc189287-777a-4fa5-cd53-15c5c0bb5018"
      },
      "execution_count": 19,
      "outputs": [
        {
          "output_type": "stream",
          "name": "stdout",
          "text": [
            "[[6 4 9 3]\n",
            " [2 2 1 2]\n",
            " [2 7 2 5]] \n",
            "\n",
            "[[36 16 81  9]\n",
            " [ 4  4  1  4]\n",
            " [ 4 49  4 25]]\n"
          ]
        }
      ]
    },
    {
      "cell_type": "code",
      "source": [
        "#-18 Створіть вектор розміром 4, заповніть його випадковими цілими числами в діапазоні від 1 до 50 та знайдіть вектор з квадратними коренями цих чисел.\n",
        "v = np.random.randint(1, 51, 4)\n",
        "print(v, \"\\n\")\n",
        "\n",
        "res = np.sqrt(v)\n",
        "print(res)"
      ],
      "metadata": {
        "colab": {
          "base_uri": "https://localhost:8080/"
        },
        "id": "UJKCv1KsGFQI",
        "outputId": "3bd1b2ed-f2b7-46cc-ccbe-556b9d2dfd0e"
      },
      "execution_count": 20,
      "outputs": [
        {
          "output_type": "stream",
          "name": "stdout",
          "text": [
            "[41  9 40 27] \n",
            "\n",
            "[6.40312424 3.         6.32455532 5.19615242]\n"
          ]
        }
      ]
    }
  ]
}